{
 "cells": [
  {
   "cell_type": "markdown",
   "metadata": {},
   "source": [
    "You are given a list of dictionaries matches where each element of the list would correspond to a match result. Each match result contains the team involved, the winner, and the goals scored by the winner team. One of the entry is given below for your reference:\n",
    "\n",
    "```\n",
    "{'team1': 'Brazil', 'team2': 'Argentina', 'goals1': 2, 'goals2': 1}\n",
    "```\n",
    "Define a function named `get_leaderboard` that takes matches as input and returns the leaderboard.\n",
    "\n",
    "Teams are sorted by their total points. Points are awarded as follows:\n",
    "* Win: 2 pts.\n",
    "* Draw: 1 pt.\n",
    "* Loss: 0 pts.\n",
    "\n",
    "If the teams have the same points, then they should be sorted on the basis of the number of goals scored.\n",
    "\n",
    "NOTE\n",
    "* `goals1`: This variable holds the number of goals scored by team1.\n",
    "* `goals2`: This variable holds the number of goals scored by team2."
   ]
  },
  {
   "cell_type": "code",
   "execution_count": 10,
   "metadata": {},
   "outputs": [],
   "source": [
    "# Test Case\n",
    "matches = [\n",
    "    {\"team1\": \"Brazil\", \"team2\": \"Argentina\", \"goals1\": 2, \"goals2\": 1},\n",
    "    {\"team1\": \"Germany\", \"team2\": \"France\", \"goals1\": 1, \"goals2\": 2},\n",
    "    {\"team1\": \"Brazil\", \"team2\": \"Germany\", \"goals1\": 3, \"goals2\": 2},\n",
    "    {\"team1\": \"Argentina\", \"team2\": \"France\", \"goals1\": 1, \"goals2\": 1},\n",
    "    {\"team1\": \"Brazil\", \"team2\": \"France\", \"goals1\": 1, \"goals2\": 0},\n",
    "    {\"team1\": \"Argentina\", \"team2\": \"Germany\", \"goals1\": 2, \"goals2\": 0},\n",
    "    {\"team1\": \"Germany\", \"team2\": \"France\", \"goals1\": 0, \"goals2\": 1}\n",
    "]"
   ]
  },
  {
   "cell_type": "markdown",
   "metadata": {},
   "source": [
    "Output : [('Brazil', 6, 6), ('France', 5, 4), ('Argentina', 3, 4), ('Germany', 0, 3)]\n",
    "\n",
    "(TeamName, Points, GoalScored)"
   ]
  },
  {
   "cell_type": "code",
   "execution_count": 11,
   "metadata": {},
   "outputs": [],
   "source": [
    "def get_leaderboard(matches: list) -> list:\n",
    "    \"\"\"\n",
    "    Given a list of dictionaries, generate a leaderboard based on points and goal scored.\n",
    "    The output should be a list of tuples starting from the top team to bottom one.\n",
    "    \n",
    "    Args:\n",
    "    matches : list[dict]\n",
    "    \n",
    "    Returns:\n",
    "    list of tuples - where each entry should be in format: (TeamName, Points, GoalScored)\n",
    "    sorted from top team to bottom.\n",
    "    \"\"\"\n",
    "    teams = {}\n",
    "\n",
    "    # seperate out the teams and goals\n",
    "    for match in matches:\n",
    "        team1, team2 = match['team1'], match['team2'], \n",
    "        goals1, goals2 = match['goals1'], match['goals2']\n",
    "\n",
    "        # create uniques teams dict of dict -> resembles if element not present in dict, add it to dict\n",
    "        if team1 not in teams:\n",
    "            teams[team1] = {\"points\": 0, \"goals\":0}\n",
    "        if team2 not in teams:\n",
    "            teams[team2] = {\"points\":0, \"goals\":0}\n",
    "\n",
    "        # update goals scored by each team\n",
    "        teams[team1]['goals'] += goals1\n",
    "        teams[team2]['goals'] += goals2\n",
    "\n",
    "        # get points as per rule\n",
    "        if goals1>goals2: #teams1 win\n",
    "            teams[team1]['points'] += 2\n",
    "        elif goals1<goals2: #teams2 win\n",
    "            teams[team2]['points'] +=2\n",
    "        else: #its a draw\n",
    "            teams[team1]['points'] +=1\n",
    "            teams[team2]['points'] +=1\n",
    "\n",
    "    #convert the teams dict into list of tuple\n",
    "    leaderboard = []\n",
    "\n",
    "    for team,stats in teams.items():\n",
    "        leaderboard.append((team, stats['points'], stats['goals']))\n",
    "    \n",
    "    #sorting based on no of goals if points are same\n",
    "    leaderboard.sort(key=lambda x: (x[1], x[2]), reverse=True)\n",
    "\n",
    "    return leaderboard"
   ]
  },
  {
   "cell_type": "code",
   "execution_count": 12,
   "metadata": {},
   "outputs": [
    {
     "data": {
      "text/plain": [
       "[('Brazil', 6, 6), ('France', 5, 4), ('Argentina', 3, 4), ('Germany', 0, 3)]"
      ]
     },
     "execution_count": 12,
     "metadata": {},
     "output_type": "execute_result"
    }
   ],
   "source": [
    "get_leaderboard(matches)"
   ]
  }
 ],
 "metadata": {
  "kernelspec": {
   "display_name": "Python 3",
   "language": "python",
   "name": "python3"
  },
  "language_info": {
   "codemirror_mode": {
    "name": "ipython",
    "version": 3
   },
   "file_extension": ".py",
   "mimetype": "text/x-python",
   "name": "python",
   "nbconvert_exporter": "python",
   "pygments_lexer": "ipython3",
   "version": "3.10.11"
  }
 },
 "nbformat": 4,
 "nbformat_minor": 2
}
