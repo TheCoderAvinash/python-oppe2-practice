{
 "cells": [
  {
   "cell_type": "markdown",
   "metadata": {},
   "source": [
    "Write a program to count the frequency of each word in a given text file, and store the \n",
    "results in another file sorted by frequency."
   ]
  },
  {
   "cell_type": "markdown",
   "metadata": {},
   "source": [
    "LOGIC\n",
    "\n",
    "Write a program to count the frequency of each word in a given text file, and store the \n",
    "results in another file sorted by frequency.\n",
    "\n",
    "1. Open the file and covert to lowecase words.\n",
    "2. Process the text to remove blank spaces and any punctuation symbols.\n",
    "3. Split the preprocessed text into list.\n",
    "4. Create a empty dictionary and populate it with key : words and value: freq.\n",
    "\n",
    "In a loop: Iterate over words and value pairs: (to sort output)\n",
    "\n",
    "5. Open a new file.\n",
    "6. Convert the dict into key value tuples.\n",
    "7. Sort the tuple based on value / count in decending order.\n",
    "6. Write to file as word:count pairs.\n"
   ]
  },
  {
   "cell_type": "code",
   "execution_count": 19,
   "metadata": {},
   "outputs": [
    {
     "name": "stdout",
     "output_type": "stream",
     "text": [
      "['the', 'quick', 'brown', 'fox', 'jumps', 'over', 'the', 'lazy', 'dog', 'the', 'dog', 'barks', 'at', 'the', 'fox', 'the', 'quick', 'brown', 'fox', 'runs', 'away', 'the', 'lazy', 'dog', 'chases', 'the', 'fox', 'but', 'gets', 'tired', 'quickly', 'the', 'quick', 'fox', 'hides', 'behind', 'a', 'tree', 'the', 'brown', 'fox', 'waits', 'until', 'the', 'dog', 'leaves', 'the', 'lazy', 'dog', 'lies', 'down', 'under', 'a', 'tree']\n"
     ]
    }
   ],
   "source": [
    "#open file\n",
    "with open('data.txt') as file:\n",
    "    text = file.read().lower()\n",
    "    \n",
    "    # word processing\n",
    "    cleaned_text = \"\"\n",
    "    for char in text:\n",
    "        if char.isalnum() or char.isspace():\n",
    "            cleaned_text += char\n",
    "        else:\n",
    "            cleaned_text += ' '\n",
    "    \n",
    "    words = cleaned_text.split()\n",
    "    print(words)\n"
   ]
  },
  {
   "cell_type": "code",
   "execution_count": null,
   "metadata": {},
   "outputs": [],
   "source": [
    "# freq -> dict\n",
    "word_count = {}\n",
    "\n",
    "for word in words:\n",
    "    word_count[word] = word_count.get(word, 0) + 1\n",
    "\n",
    "word_count"
   ]
  },
  {
   "cell_type": "code",
   "execution_count": 24,
   "metadata": {},
   "outputs": [],
   "source": [
    "# write file -> decending sorted freq count\n",
    "with open('ans.txt','w') as file:\n",
    "\n",
    "    for word, count in sorted(word_count.items(), key=lambda x: x[1], reverse=True):\n",
    "        file.write(f\"{word}:{count}\\n\")"
   ]
  },
  {
   "cell_type": "markdown",
   "metadata": {},
   "source": [
    "Github link : https://github.com/devloperhs14/python-oppe2-practice\n",
    "\n",
    "Like, Share, Subscribe!"
   ]
  }
 ],
 "metadata": {
  "kernelspec": {
   "display_name": "Python 3",
   "language": "python",
   "name": "python3"
  },
  "language_info": {
   "codemirror_mode": {
    "name": "ipython",
    "version": 3
   },
   "file_extension": ".py",
   "mimetype": "text/x-python",
   "name": "python",
   "nbconvert_exporter": "python",
   "pygments_lexer": "ipython3",
   "version": "3.10.11"
  }
 },
 "nbformat": 4,
 "nbformat_minor": 2
}
