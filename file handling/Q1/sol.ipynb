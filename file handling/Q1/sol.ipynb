{
 "cells": [
  {
   "cell_type": "markdown",
   "metadata": {},
   "source": [
    "Q1. Write a Python program to find the longest word in a text file"
   ]
  },
  {
   "cell_type": "markdown",
   "metadata": {},
   "source": [
    "Approach\n",
    "\n",
    "1. Create Empty Longest Word: empty string -> longer? -> open(read)\n",
    "2. Read Line by Line: read file line by line -> \"The quick brown fox jumps over the lazy dog. Programming languages like Python and JavaScript are widely used.\"\n",
    "3. Split into Words: split words in each line for comparison -> [\"The\", \"quick\", \"brown\", ....]\n",
    "4. Compare Word Lengths: check if current word longer, if so update the empty string , keep iterating till max value found\n",
    "5. Return the Result: return / print the results."
   ]
  },
  {
   "cell_type": "code",
   "execution_count": 11,
   "metadata": {},
   "outputs": [
    {
     "name": "stdout",
     "output_type": "stream",
     "text": [
      "Programming\n"
     ]
    }
   ],
   "source": [
    "\n",
    "# fundamental\n",
    "\n",
    "longest_word = \"\"\n",
    "\n",
    "with open('data.txt', 'r') as file:  \n",
    "    for line in file:\n",
    "        words = line.split()\n",
    "        \n",
    "        for word in words:\n",
    "            if len(word) > len(longest_word):\n",
    "                longest_word = word\n",
    "\n",
    "print(longest_word)"
   ]
  },
  {
   "cell_type": "code",
   "execution_count": 14,
   "metadata": {},
   "outputs": [
    {
     "name": "stdout",
     "output_type": "stream",
     "text": [
      "Programming\n"
     ]
    }
   ],
   "source": [
    "# easy\n",
    "\n",
    "with open('data.txt', 'r') as file:\n",
    "    words = file.read().split()\n",
    "    \n",
    "    longest_word = max(words, key=len)\n",
    "\n",
    "print(longest_word)"
   ]
  },
  {
   "cell_type": "markdown",
   "metadata": {},
   "source": [
    "---\n",
    "Homework:  Write a Python fn named `find_longest_word` to find the longest word in a text file"
   ]
  }
 ],
 "metadata": {
  "kernelspec": {
   "display_name": "Python 3",
   "language": "python",
   "name": "python3"
  },
  "language_info": {
   "codemirror_mode": {
    "name": "ipython",
    "version": 3
   },
   "file_extension": ".py",
   "mimetype": "text/x-python",
   "name": "python",
   "nbconvert_exporter": "python",
   "pygments_lexer": "ipython3",
   "version": "3.10.11"
  }
 },
 "nbformat": 4,
 "nbformat_minor": 2
}
